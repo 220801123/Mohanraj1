{
  "nbformat": 4,
  "nbformat_minor": 0,
  "metadata": {
    "colab": {
      "provenance": [],
      "authorship_tag": "ABX9TyPDdS87eWAYn/rE4DP9kmC5",
      "include_colab_link": true
    },
    "kernelspec": {
      "name": "python3",
      "display_name": "Python 3"
    },
    "language_info": {
      "name": "python"
    }
  },
  "cells": [
    {
      "cell_type": "markdown",
      "metadata": {
        "id": "view-in-github",
        "colab_type": "text"
      },
      "source": [
        "<a href=\"https://colab.research.google.com/github/220801123/Mohanraj1/blob/main/question_1.ipynb\" target=\"_parent\"><img src=\"https://colab.research.google.com/assets/colab-badge.svg\" alt=\"Open In Colab\"/></a>"
      ]
    },
    {
      "cell_type": "code",
      "execution_count": null,
      "metadata": {
        "colab": {
          "base_uri": "https://localhost:8080/"
        },
        "id": "Yszjbg5hYyu_",
        "outputId": "3d8f8ae8-af29-48c9-edeb-eae75d883d33"
      },
      "outputs": [
        {
          "output_type": "stream",
          "name": "stdout",
          "text": [
            "SQLite version: 2.6.0\n",
            "Table created successfully\n",
            "Data inserted successfully\n",
            "Data inserted successfully\n",
            "Data inserted successfully\n",
            "Predicted age of David: 30.00 years\n",
            "Predicted age of Emma: 27.50 years\n",
            "(1, 'Alice', 30)\n",
            "(2, 'Bob', 25)\n",
            "(3, 'Charlie', 35)\n"
          ]
        }
      ],
      "source": [
        "import sqlite3\n",
        "from sklearn.linear_model import LinearRegression\n",
        "\n",
        "# Function to create a new SQLite database\n",
        "def create_connection(db_file):\n",
        "    conn = None\n",
        "    try:\n",
        "        conn = sqlite3.connect(db_file)\n",
        "        print(\"SQLite version:\", sqlite3.version)\n",
        "    except sqlite3.Error as e:\n",
        "        print(e)\n",
        "    return conn\n",
        "\n",
        "# Function to create a new table\n",
        "def create_table(conn, create_table_sql):\n",
        "    try:\n",
        "        c = conn.cursor()\n",
        "        c.execute(create_table_sql)\n",
        "        print(\"Table created successfully\")\n",
        "    except sqlite3.Error as e:\n",
        "        print(e)\n",
        "\n",
        "# Function to insert data into the table\n",
        "def insert_data(conn, insert_sql, data):\n",
        "    try:\n",
        "        c = conn.cursor()\n",
        "        c.execute(insert_sql, data)\n",
        "        conn.commit()\n",
        "        print(\"Data inserted successfully\")\n",
        "    except sqlite3.Error as e:\n",
        "        print(e)\n",
        "\n",
        "# Function to select and print data from the table\n",
        "def select_data(conn, select_sql):\n",
        "    try:\n",
        "        c = conn.cursor()\n",
        "        c.execute(select_sql)\n",
        "        rows = c.fetchall()\n",
        "        for row in rows:\n",
        "            print(row)\n",
        "    except sqlite3.Error as e:\n",
        "        print(e)\n",
        "\n",
        "# Function to train a simple linear regression model\n",
        "def train_model(conn):\n",
        "    try:\n",
        "        c = conn.cursor()\n",
        "        c.execute(\"SELECT name, age FROM users\")\n",
        "        rows = c.fetchall()\n",
        "        X = [[len(row[0])] for row in rows]\n",
        "        y = [row[1] for row in rows]\n",
        "\n",
        "        model = LinearRegression()\n",
        "        model.fit(X, y)\n",
        "\n",
        "        return model\n",
        "    except sqlite3.Error as e:\n",
        "        print(e)\n",
        "\n",
        "def main():\n",
        "    database = r\"test.db\"\n",
        "\n",
        "    # SQL statement to create a table\n",
        "    create_table_sql = \"\"\"CREATE TABLE IF NOT EXISTS users (\n",
        "                                id INTEGER PRIMARY KEY,\n",
        "                                name TEXT NOT NULL,\n",
        "                                age INTEGER\n",
        "                            );\"\"\"\n",
        "\n",
        "    # SQL statement to insert data\n",
        "    insert_sql = '''INSERT INTO users(name, age) VALUES(?, ?)'''\n",
        "\n",
        "    # Data to be inserted\n",
        "    data = [('Alice', 30),\n",
        "            ('Bob', 25),\n",
        "            ('Charlie', 35)]\n",
        "\n",
        "    # create a database connection\n",
        "    conn = create_connection(database)\n",
        "    if conn is not None:\n",
        "        # create users table\n",
        "        create_table(conn, create_table_sql)\n",
        "\n",
        "        # insert data\n",
        "        for d in data:\n",
        "            insert_data(conn, insert_sql, d)\n",
        "\n",
        "        # train the model\n",
        "        model = train_model(conn)\n",
        "\n",
        "        # predict age based on user's name\n",
        "        new_users = ['David', 'Emma']\n",
        "        for user in new_users:\n",
        "            name_length = len(user)\n",
        "            predicted_age = model.predict([[name_length]])[0]\n",
        "            print(f\"Predicted age of {user}: {predicted_age:.2f} years\")\n",
        "\n",
        "        # select and print data\n",
        "        select_data(conn, \"SELECT * FROM users\")\n",
        "        conn.close()\n",
        "    else:\n",
        "        print(\"Error! cannot create the database connection.\")\n",
        "\n",
        "if __name__ == '__main__':\n",
        "    main()\n"
      ]
    },
    {
      "cell_type": "markdown",
      "source": [],
      "metadata": {
        "id": "sriFSmF8cGtI"
      }
    }
  ]
}